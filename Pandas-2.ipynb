{
 "cells": [
  {
   "cell_type": "code",
   "execution_count": 6,
   "id": "17e6afde-53e4-4082-82b6-fab5c593ba6f",
   "metadata": {},
   "outputs": [],
   "source": [
    "import pandas as pd\n",
    "import numpy as np"
   ]
  },
  {
   "cell_type": "code",
   "execution_count": 7,
   "id": "7f8103ca-cc3a-460c-a28e-7fb8c62ae57a",
   "metadata": {},
   "outputs": [
    {
     "name": "stdout",
     "output_type": "stream",
     "text": [
      "18.16590212458495\n"
     ]
    }
   ],
   "source": [
    "#Compute the euclidean distance between series (points) p and q, without using a packaged formula\n",
    "p = pd.Series([1, 2, 3, 4, 5, 6, 7, 8, 9, 10])\n",
    "q = pd.Series([10, 9, 8, 7, 6, 5, 4, 3, 2, 1])\n",
    "\n",
    "# Euclidean distance formula for higher dimensions\n",
    "distance = np.sqrt(((p-q) **2).sum())\n",
    "print(distance)"
   ]
  },
  {
   "cell_type": "code",
   "execution_count": 11,
   "id": "9d462e21-53dc-4f14-8f61-73e4e2c6442f",
   "metadata": {},
   "outputs": [
    {
     "name": "stdout",
     "output_type": "stream",
     "text": [
      "    a   b   c   d   e\n",
      "0   0   1   2   3   4\n",
      "1   5   6   7   8   9\n",
      "2  10  11  12  13  14\n",
      "3  15  16  17  18  19\n",
      "    c   b   a   d   e\n",
      "0   2   1   0   3   4\n",
      "1   7   6   5   8   9\n",
      "2  12  11  10  13  14\n",
      "3  17  16  15  18  19\n"
     ]
    }
   ],
   "source": [
    "# Change the order of columns of a dataframe. Interchange columns 'a' and 'c'\n",
    "df = pd.DataFrame(np.arange(20).reshape(-1, 5), columns=list('abcde'))\n",
    "print(df)\n",
    "interchanged_df = df[['c', 'b', 'a', 'd', 'e']]\n",
    "print(df)"
   ]
  },
  {
   "cell_type": "code",
   "execution_count": 22,
   "id": "e62422fb-7f8f-4d00-a935-f5db7cbce344",
   "metadata": {},
   "outputs": [
    {
     "name": "stdout",
     "output_type": "stream",
     "text": [
      "    c   b   a   d   e\n",
      "0   2   1   0   3   4\n",
      "1   7   6   5   8   9\n",
      "2  12  11  10  13  14\n",
      "3  17  16  15  18  19\n"
     ]
    }
   ],
   "source": [
    "# Change the order of columns of a dataframe. Create a generic function to interchange two columns, without\n",
    "# hardcoding column names\n",
    "\n",
    "# swap columns takes in three parameters, the dataframe, then the two columns to be switched.\n",
    "def swap_columns(df, col1, col2):\n",
    "    # Get the list of columns in the DataFrame\n",
    "    columns = list(df.columns)\n",
    "    \n",
    "    # Get the indices of the columns to swap\n",
    "    idx1, idx2 = columns.index(col1), columns.index(col2)\n",
    "    \n",
    "    # Swap the columns in the list\n",
    "    columns[idx1], columns[idx2] = columns[idx2], columns[idx1]\n",
    "    \n",
    "    # Reorder the DataFrame columns based on the modified list\n",
    "    return df[columns]\n",
    "\n",
    "df = pd.DataFrame(np.arange(20).reshape(-1, 5), columns=list('abcde'))\n",
    "\n",
    "print(swap_columns(df, 'a', 'c'))"
   ]
  },
  {
   "cell_type": "code",
   "execution_count": 43,
   "id": "bda205cf-c19f-42f5-b4e9-92064052ee92",
   "metadata": {},
   "outputs": [
    {
     "name": "stdout",
     "output_type": "stream",
     "text": [
      "   random\n",
      "0  0.0011\n",
      "1  0.0182\n",
      "2  0.0000\n",
      "3  0.0013\n"
     ]
    }
   ],
   "source": [
    "\"\"\"\n",
    "    Format or suppress scientific notations in a pandas dataframe. Suppress scientific notations like ‘e-03’ in df and\n",
    "    print upto 4 numbers after decimal.\n",
    "    df\n",
    "    #> random\n",
    "    #> 0 3.474280e-03\n",
    "    #> 1 3.951517e-05\n",
    "    #> 2 7.469702e-02\n",
    "    #> 3 5.541282e-28\n",
    "    Desired Output\n",
    "    #> random\n",
    "    #> 0 0.0035\n",
    "\"\"\"\n",
    "df = pd.DataFrame(np.random.random(4)**10, columns=['random'])\n",
    "pd.options.display.float_format = '{:.4f}'.format\n",
    "print(df)"
   ]
  },
  {
   "cell_type": "code",
   "execution_count": 50,
   "id": "48c199ba-7454-4ab6-b3b6-066f5a5d3ea2",
   "metadata": {},
   "outputs": [
    {
     "name": "stdout",
     "output_type": "stream",
     "text": [
      "    p   q   r   s nearest_row    dist\n",
      "a  58  41  88  21           c 17.6918\n",
      "b  35   8  70   1           a 48.3942\n",
      "c  60  57  90  28           a 17.6918\n",
      "d  20  93  58  71           j 52.9056\n",
      "e  12  50  15  19           h 34.0147\n",
      "f  32  46  92  88           d 61.6279\n",
      "g  83   4  27  12           b 65.4981\n",
      "h  30  42  40  31           e 34.0147\n",
      "i  93  44  91  54           c 43.9886\n",
      "j   5  67  21  48           e 34.8569\n"
     ]
    }
   ],
   "source": [
    "# Create the DataFrame\n",
    "df = pd.DataFrame(np.random.randint(1, 100, 40).reshape(10, -1),\n",
    "                  columns=list('pqrs'), index=list('abcdefghij'))\n",
    "\n",
    "def find_nearest_row(df):\n",
    "    distances = []\n",
    "    nearest_rows = []\n",
    "    for i in range(len(df)):\n",
    "        distance_between_currentRow = np.linalg.norm(df.values - df.values[i], axis = 1)\n",
    "\n",
    "        #Each point is a distance of 0 to itself, so we should set it to some arbitrary large number\n",
    "        distance_between_currentRow[i] = 1000000000000000000\n",
    "        \n",
    "        # Find the index of the nearest row and the corresponding distance      \n",
    "        nearest_index = np.argmin(distance_between_currentRow)\n",
    "        nearest_distance = distance_between_currentRow[nearest_index]\n",
    "\n",
    "\n",
    "\n",
    "        # Append the results to the lists\n",
    "        nearest_rows.append(df.index[nearest_index])\n",
    "        distances.append(nearest_distance)\n",
    "\n",
    "    df['nearest_row'] = nearest_rows\n",
    "    df['dist'] = distances\n",
    "    return df\n",
    "\n",
    "# Apply the function\n",
    "df = find_nearest_row(df)\n",
    "\n",
    "# Display the updated DataFrame\n",
    "print(df)"
   ]
  },
  {
   "cell_type": "code",
   "execution_count": 52,
   "id": "c2abc11f-ba74-4cfe-b54a-52137c41ab01",
   "metadata": {},
   "outputs": [
    {
     "name": "stdout",
     "output_type": "stream",
     "text": [
      "       A      B      C      D      E\n",
      "A 1.0000 0.7560 0.6244 0.4938 0.9286\n",
      "B 0.7560 1.0000 0.9667 0.3636 0.6496\n",
      "C 0.6244 0.9667 1.0000 0.2189 0.5281\n",
      "D 0.4938 0.3636 0.2189 1.0000 0.7202\n",
      "E 0.9286 0.6496 0.5281 0.7202 1.0000\n"
     ]
    }
   ],
   "source": [
    "\"\"\"\n",
    "Question 6 (15 Points)\n",
    "Correlation is a statistical technique that shows how two variables are related. Pandas dataframe.corr() method is\n",
    "used for creating the correlation matrix. It is used to find the pairwise correlation of all columns in the dataframe.\n",
    "Any na values are automatically excluded. For any non-numeric data type columns in the dataframe it is ignored.\n",
    "\n",
    "This isn't a question, what are we supposed to do?\n",
    "\n",
    "\"\"\"\n",
    "\n",
    "data = {'A': [45, 37, 0, 42, 50],\n",
    "'B': [38, 31, 1, 26, 90],\n",
    "'C': [10, 15, -10, 17, 100],\n",
    "'D': [60, 99, 15, 23, 56],\n",
    "'E': [76, 98, -0.03, 78, 90]\n",
    "       }\n",
    "df = pd.DataFrame(data)\n",
    "print(df.corr())"
   ]
  },
  {
   "cell_type": "code",
   "execution_count": null,
   "id": "59ba22d1-57ae-4974-b2c2-62ff05cbe843",
   "metadata": {},
   "outputs": [],
   "source": []
  }
 ],
 "metadata": {
  "kernelspec": {
   "display_name": "Python 3 (ipykernel)",
   "language": "python",
   "name": "python3"
  },
  "language_info": {
   "codemirror_mode": {
    "name": "ipython",
    "version": 3
   },
   "file_extension": ".py",
   "mimetype": "text/x-python",
   "name": "python",
   "nbconvert_exporter": "python",
   "pygments_lexer": "ipython3",
   "version": "3.13.0"
  }
 },
 "nbformat": 4,
 "nbformat_minor": 5
}
